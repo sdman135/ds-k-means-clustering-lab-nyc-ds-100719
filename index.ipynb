{
 "cells": [
  {
   "cell_type": "markdown",
   "metadata": {},
   "source": [
    "# Clustering Algorithms Lab\n",
    "\n",
    "## Objective\n",
    "\n",
    "In this lab, we'll generate a dataset and learn to make use of K-Means Clustering with the help of sklearn. We'll also learn 2 techniques for evaluating the quality of our clusters when we don't know how many clusters the dataset is actually supposed to contain.\n",
    "\n",
    "### Getting Started\n",
    "\n",
    "Since the algorithms we are working with are unsupervised, it can sometimes be tough to tell if they're actually working as well as we want them to when clustering our data. For learning purposes, we'll use sklearn to generate a dataset for us that matches our specifications.  This will make it easier for us to evaluate the performance of our clustering results, because real -world data would be inherently messier. \n",
    "\n",
    "Run the cell below to import everything we'll need for this lab.  "
   ]
  },
  {
   "cell_type": "code",
   "execution_count": 1,
   "metadata": {
    "ExecuteTime": {
     "end_time": "2019-12-16T21:55:53.589797Z",
     "start_time": "2019-12-16T21:55:52.167115Z"
    }
   },
   "outputs": [],
   "source": [
    "from sklearn.datasets import make_blobs\n",
    "from sklearn.datasets import make_moons\n",
    "from sklearn.cluster import KMeans\n",
    "import matplotlib.pyplot as plt\n",
    "import numpy as np\n",
    "np.random.seed(0)\n",
    "%matplotlib inline  "
   ]
  },
  {
   "cell_type": "markdown",
   "metadata": {},
   "source": [
    "Now, we'll use the `make_blobs()` function to generate a dataset for us to work with.  \n",
    "\n",
    "In the cell below, call `make_blobs()` to create a dataset with the following specifications:\n",
    "\n",
    "* Number of samples should be `400`\n",
    "* Each sample should contain `2` features.\n",
    "* The dataset should have `7` centers.\n",
    "* The Standard Deviation should be `0.8` for each cluster.\n",
    "\n",
    "Note the keyword arguments for the function were not provided in the specification above.  You'll either need to inspect `make_blobs()` using a `?`, or go to the [documentation](http://scikit-learn.org/stable/modules/generated/sklearn.datasets.make_blobs.html) to figure out what keywords correspond to each of the parameters specified above.  \n",
    "\n"
   ]
  },
  {
   "cell_type": "code",
   "execution_count": 5,
   "metadata": {
    "ExecuteTime": {
     "end_time": "2019-12-16T22:02:56.834866Z",
     "start_time": "2019-12-16T22:02:56.821785Z"
    }
   },
   "outputs": [
    {
     "data": {
      "text/plain": [
       "array([[ 1.27741643e+00,  7.72153121e+00],\n",
       "       [ 9.57944115e+00, -2.35856345e+00],\n",
       "       [ 6.01010841e+00,  8.92348742e-01],\n",
       "       [-2.08054389e+00,  4.14698390e+00],\n",
       "       [ 8.45882171e+00, -2.39345343e+00],\n",
       "       [ 5.07900597e+00,  7.68380913e-01],\n",
       "       [-2.93161648e+00,  3.27862983e+00],\n",
       "       [ 9.96333202e+00, -4.45566490e+00],\n",
       "       [-1.41377872e+00,  8.53960315e+00],\n",
       "       [-1.66227101e+00,  7.05239613e+00],\n",
       "       [ 2.27920720e+00,  8.19143348e-01],\n",
       "       [-9.29153346e-01,  1.96672630e+00],\n",
       "       [ 9.84670095e-01,  5.73248372e+00],\n",
       "       [ 1.25509524e+00, -3.38153217e-01],\n",
       "       [-7.49928023e-02,  8.51750157e+00],\n",
       "       [ 2.84056422e+00,  8.34059944e+00],\n",
       "       [ 9.50067895e+00, -9.37034599e-01],\n",
       "       [ 9.53724296e-01,  4.64645282e+00],\n",
       "       [-1.30729093e+00,  2.20515019e+00],\n",
       "       [ 1.10022802e+00,  4.60631734e+00],\n",
       "       [ 9.98946343e+00, -1.23119837e+00],\n",
       "       [ 1.27741050e+00,  3.42426669e+00],\n",
       "       [ 6.20743390e+00,  2.81704442e-01],\n",
       "       [ 4.41502059e-02,  5.02444852e+00],\n",
       "       [ 5.47145753e+00,  9.00510027e-01],\n",
       "       [ 1.46361712e+00,  2.13207534e+00],\n",
       "       [ 1.29971052e+00,  5.69623905e-01],\n",
       "       [-2.86138108e+00,  7.40389631e+00],\n",
       "       [-1.11005211e+00,  2.45725189e+00],\n",
       "       [ 7.92828064e+00, -3.04234671e+00],\n",
       "       [-1.41334148e+00,  2.66241953e+00],\n",
       "       [ 2.79195458e+00,  1.15264578e+00],\n",
       "       [ 5.28466153e+00,  4.83918758e-01],\n",
       "       [ 8.99529469e+00, -2.79618440e+00],\n",
       "       [ 9.42931097e+00, -3.75641991e+00],\n",
       "       [ 2.50431387e-01,  4.34534364e+00],\n",
       "       [ 1.00254159e+00,  5.28395976e-01],\n",
       "       [-1.29782906e+00,  3.40495733e+00],\n",
       "       [-3.15145159e+00,  4.56947655e+00],\n",
       "       [ 5.36137863e+00,  1.47743374e+00],\n",
       "       [-6.34925229e-01,  8.12049427e+00],\n",
       "       [ 1.81209805e+00,  7.48429093e+00],\n",
       "       [ 1.00226492e+01, -1.20130746e+00],\n",
       "       [ 5.99287459e+00,  1.44344657e+00],\n",
       "       [ 5.30932982e+00, -1.68974521e+00],\n",
       "       [ 6.09896217e+00,  1.33729557e+00],\n",
       "       [-5.74950763e-01,  7.63589315e+00],\n",
       "       [ 9.23669204e+00, -2.15476350e+00],\n",
       "       [ 1.22787325e+00,  1.44293927e+00],\n",
       "       [ 2.59896830e-01,  4.61330933e+00],\n",
       "       [ 9.07963935e+00, -1.11656069e+00],\n",
       "       [-2.47799142e+00,  2.51242918e+00],\n",
       "       [ 1.54037280e+00, -8.81058862e-01],\n",
       "       [ 6.11592485e+00,  8.81286822e-01],\n",
       "       [-3.14848199e-01,  4.13359510e+00],\n",
       "       [ 8.22629910e-01,  9.48273255e-01],\n",
       "       [ 7.02521710e-02,  7.96684222e+00],\n",
       "       [-1.49554733e+00,  7.64868669e+00],\n",
       "       [-3.07915181e+00,  8.03664755e+00],\n",
       "       [-1.65303763e+00,  4.72326106e+00],\n",
       "       [ 8.20748589e+00, -3.90606938e+00],\n",
       "       [ 6.86328797e+00, -6.27700324e-01],\n",
       "       [-2.07411273e+00,  4.24552290e+00],\n",
       "       [-2.09066423e+00,  3.67249084e+00],\n",
       "       [-1.63386526e+00,  3.78007731e+00],\n",
       "       [-2.09195855e+00,  8.49165829e+00],\n",
       "       [ 3.00569136e+00,  1.15121775e+00],\n",
       "       [-6.05038761e-01,  3.78157713e+00],\n",
       "       [ 1.02183581e+01, -2.83669263e+00],\n",
       "       [-9.75049482e-01,  3.95935924e+00],\n",
       "       [-8.82323290e-01,  7.06377040e+00],\n",
       "       [ 1.55954253e+00,  4.40697366e+00],\n",
       "       [ 2.66041480e-01,  2.71915015e+00],\n",
       "       [-1.81865885e+00,  3.04324535e+00],\n",
       "       [ 1.01287689e+00,  4.15404025e+00],\n",
       "       [ 1.97650550e+00,  3.66881031e-01],\n",
       "       [ 5.92661906e+00,  2.74580345e-01],\n",
       "       [ 5.45847446e+00,  4.04513219e-01],\n",
       "       [ 2.37207289e+00,  2.32144530e-02],\n",
       "       [ 6.19649204e+00,  6.56215311e-01],\n",
       "       [ 4.27793830e+00, -1.52328400e-01],\n",
       "       [-3.65424180e+00,  3.40293788e+00],\n",
       "       [ 1.75933315e+00,  8.49097898e+00],\n",
       "       [ 6.01498769e+00,  9.37668075e-01],\n",
       "       [ 7.37758569e+00, -1.63992778e+00],\n",
       "       [ 4.70973043e+00,  1.05852278e-01],\n",
       "       [ 2.78341065e+00,  1.15143823e+00],\n",
       "       [-7.94423552e-01,  7.65731994e+00],\n",
       "       [ 9.28015753e+00, -1.90956626e+00],\n",
       "       [-2.57212549e+00,  4.24438681e+00],\n",
       "       [ 1.33136066e+00,  4.57072679e+00],\n",
       "       [ 7.94223827e-02,  7.80218801e+00],\n",
       "       [ 5.55750120e+00, -5.78106618e-02],\n",
       "       [ 2.55545268e+00, -3.83982465e-01],\n",
       "       [-6.72096494e-01,  2.55517362e+00],\n",
       "       [ 2.00067424e+00,  2.26833784e+00],\n",
       "       [ 8.73083458e+00, -1.29289299e+00],\n",
       "       [ 2.47388885e+00,  7.60426595e-01],\n",
       "       [ 1.57741467e+00,  7.07326276e-01],\n",
       "       [ 2.51462370e+00,  5.48819916e+00],\n",
       "       [ 5.78959435e+00,  5.76790361e-01],\n",
       "       [-5.47589565e-01,  7.74337404e+00],\n",
       "       [ 5.52058956e+00, -1.85901605e+00],\n",
       "       [ 1.01503327e+01, -2.51854226e+00],\n",
       "       [ 1.37921175e-01,  8.38306090e+00],\n",
       "       [ 1.29814339e+00,  3.75593925e+00],\n",
       "       [-1.56443896e+00,  6.90792360e+00],\n",
       "       [ 7.96714759e+00, -3.58538380e+00],\n",
       "       [ 1.01358131e+01, -4.37851736e+00],\n",
       "       [-4.01179202e-02,  5.07930469e+00],\n",
       "       [-1.77561295e+00,  2.99580239e+00],\n",
       "       [ 5.40833853e+00,  1.45049818e+00],\n",
       "       [ 6.26915027e+00,  9.29132761e-01],\n",
       "       [ 2.48982887e+00,  9.14057583e+00],\n",
       "       [ 5.08830803e+00, -4.32556284e-01],\n",
       "       [ 5.65886794e+00, -2.89330901e-01],\n",
       "       [ 1.45946366e+00,  2.36512829e-01],\n",
       "       [ 1.51410588e+00,  4.62975680e+00],\n",
       "       [-1.70370542e+00,  8.05138350e+00],\n",
       "       [ 1.77207239e+00, -2.02297375e-01],\n",
       "       [ 4.38301720e-01,  4.01614480e+00],\n",
       "       [-1.40077857e+00,  7.51958040e+00],\n",
       "       [ 9.54877141e-01,  7.67042868e+00],\n",
       "       [ 5.53438307e+00, -4.03058558e-01],\n",
       "       [ 8.69001948e+00, -2.17392370e+00],\n",
       "       [ 2.55237599e+00,  8.92897576e+00],\n",
       "       [ 6.37566935e+00,  2.72291231e-01],\n",
       "       [ 1.51580139e+00,  9.23128107e-01],\n",
       "       [ 1.01534827e+01, -1.29275205e+00],\n",
       "       [-2.00395524e+00,  2.87582842e+00],\n",
       "       [-2.03666436e+00,  6.65799201e+00],\n",
       "       [-9.93797548e-01,  2.54930643e+00],\n",
       "       [-2.42836466e+00,  2.33334006e+00],\n",
       "       [ 1.74240992e+00,  8.63069243e+00],\n",
       "       [ 1.93687821e+00,  7.62960780e+00],\n",
       "       [-2.01665928e+00,  7.20096613e+00],\n",
       "       [-1.63198043e+00,  8.33174665e+00],\n",
       "       [-2.36310671e+00,  3.88679849e+00],\n",
       "       [ 3.35865154e+00,  6.71567545e+00],\n",
       "       [ 1.54659066e+00,  1.43881030e+00],\n",
       "       [ 1.71944745e+00,  9.86887802e+00],\n",
       "       [ 5.66094111e+00,  9.34212996e-01],\n",
       "       [ 1.31402198e+00,  8.25789829e+00],\n",
       "       [ 9.05271878e+00, -2.89895200e+00],\n",
       "       [-1.06612177e+00,  4.82668220e+00],\n",
       "       [ 1.00272297e+01, -2.54524542e+00],\n",
       "       [ 6.73713311e-01,  7.79277904e+00],\n",
       "       [ 1.37427706e-01,  3.16777298e+00],\n",
       "       [ 5.65509361e+00,  3.36098611e-01],\n",
       "       [ 1.85043298e+00,  7.43873539e+00],\n",
       "       [-2.59662095e-02,  4.92577961e+00],\n",
       "       [ 7.52793358e+00, -7.10804328e-01],\n",
       "       [ 9.30285979e+00, -1.71684770e+00],\n",
       "       [ 9.34899287e-01,  9.02797698e+00],\n",
       "       [ 8.54624461e+00, -2.67062372e+00],\n",
       "       [-5.90987205e-01,  7.83969413e+00],\n",
       "       [ 1.22672424e+00,  3.62051074e+00],\n",
       "       [ 8.74521015e+00, -2.19051446e+00],\n",
       "       [ 2.39627451e+00,  1.43919009e+00],\n",
       "       [ 5.98117212e+00,  1.91465282e+00],\n",
       "       [-1.62334713e+00,  6.07430699e+00],\n",
       "       [ 1.75992205e+00,  7.06160318e-01],\n",
       "       [-9.77132475e-01,  9.45229486e+00],\n",
       "       [ 2.81480417e+00,  9.67704653e-01],\n",
       "       [ 5.47596847e+00,  5.84280529e-02],\n",
       "       [ 4.18788052e-01,  7.59977573e+00],\n",
       "       [-2.07717410e+00,  1.94662034e+00],\n",
       "       [ 1.68439074e+00,  1.28284884e+00],\n",
       "       [ 3.16229345e-01,  2.06986960e+00],\n",
       "       [ 9.74515907e+00, -2.62225667e+00],\n",
       "       [ 9.44403925e+00, -3.29802855e+00],\n",
       "       [ 1.34880003e+00,  3.07479238e+00],\n",
       "       [ 1.54874844e+00,  1.02176555e+01],\n",
       "       [ 2.01103046e+00,  8.98174027e+00],\n",
       "       [ 1.04839177e+01, -1.88866397e+00],\n",
       "       [-1.59960739e+00,  7.98053076e+00],\n",
       "       [ 6.66202867e+00, -2.19071717e-01],\n",
       "       [ 6.08822926e+00,  9.93930887e-01],\n",
       "       [-5.53084985e-01,  8.05695754e+00],\n",
       "       [-1.02390241e+00,  7.04096113e+00],\n",
       "       [ 1.62097834e+00,  1.23050370e+00],\n",
       "       [-9.51595774e-01,  7.94910946e+00],\n",
       "       [ 6.42970480e-01,  9.56190906e+00],\n",
       "       [ 5.39793118e+00, -9.29770281e-01],\n",
       "       [ 1.05139454e+00,  8.10369857e+00],\n",
       "       [-1.26080146e+00,  7.96420255e+00],\n",
       "       [ 2.17832369e+00,  8.06990023e+00],\n",
       "       [-6.89490055e-01,  7.83847673e+00],\n",
       "       [-9.85141029e-02,  8.75481589e+00],\n",
       "       [-7.33604203e-01,  6.57896129e+00],\n",
       "       [ 1.02531517e+01, -2.27928474e+00],\n",
       "       [ 2.51654017e+00,  7.31024655e-01],\n",
       "       [ 1.14302345e+01, -2.39030936e+00],\n",
       "       [ 2.16687183e+00,  5.82049867e+00],\n",
       "       [ 7.96954140e-01,  9.05591264e+00],\n",
       "       [-3.88746074e-01,  5.86440764e+00],\n",
       "       [ 9.16841200e+00, -1.42470572e+00],\n",
       "       [ 1.31491561e+00,  8.19895912e+00],\n",
       "       [ 2.20249345e+00,  5.47927434e+00],\n",
       "       [ 6.97288756e+00,  8.94767663e-01],\n",
       "       [-2.66308654e+00,  8.11984545e+00],\n",
       "       [-9.71885491e-01,  2.79022351e+00],\n",
       "       [ 1.06643534e+01, -1.53565411e+00],\n",
       "       [ 6.66408625e-01,  4.06194513e+00],\n",
       "       [ 7.61867382e-01,  4.94575244e+00],\n",
       "       [ 7.48157196e+00, -2.00997038e+00],\n",
       "       [ 1.06884705e+00,  7.07887073e+00],\n",
       "       [ 1.11821099e+00,  3.98236258e+00],\n",
       "       [ 1.91929374e+00,  4.15984746e+00],\n",
       "       [ 1.78412741e+00,  8.85003566e+00],\n",
       "       [ 9.89037997e+00, -1.50761856e+00],\n",
       "       [-2.10738192e+00,  1.81119110e+00],\n",
       "       [ 5.81576228e+00,  1.44125418e+00],\n",
       "       [ 2.04939063e-01,  7.54349837e+00],\n",
       "       [-1.84646324e+00,  3.21392697e+00],\n",
       "       [-5.61916635e-01,  8.74834151e+00],\n",
       "       [ 6.28147237e-01,  5.78319831e+00],\n",
       "       [ 1.96050262e+00,  5.26569121e+00],\n",
       "       [ 5.10009695e+00,  7.79895697e-01],\n",
       "       [ 2.18047275e+00,  1.08340849e+00],\n",
       "       [-2.13821915e+00,  1.76764908e+00],\n",
       "       [ 5.78068027e+00, -4.76818301e-01],\n",
       "       [ 1.19667981e-01,  5.14734871e+00],\n",
       "       [ 1.34900506e+00,  9.16905752e+00],\n",
       "       [ 6.49075820e+00,  1.66585723e+00],\n",
       "       [ 8.62261447e-01,  1.24917702e+00],\n",
       "       [ 2.11362531e+00,  8.83609603e+00],\n",
       "       [-1.08881562e+00,  7.79497718e+00],\n",
       "       [ 1.02948386e+00,  4.54576485e+00],\n",
       "       [ 1.41253979e+00,  3.46023838e-01],\n",
       "       [-1.57620513e+00,  2.83203804e+00],\n",
       "       [-3.00135965e+00,  2.53550306e+00],\n",
       "       [ 1.42056035e+00,  7.65025351e+00],\n",
       "       [-2.17759542e+00,  1.74474280e+00],\n",
       "       [ 1.07491911e+00,  1.57315404e+00],\n",
       "       [ 7.71181193e+00, -2.85908301e+00],\n",
       "       [ 2.04165119e+00,  1.20098505e+00],\n",
       "       [ 1.03071997e-02,  8.42195998e+00],\n",
       "       [ 1.29051152e+00,  6.20878239e-01],\n",
       "       [ 1.07779975e+00,  4.62537882e+00],\n",
       "       [ 6.65764916e+00,  5.20068789e-01],\n",
       "       [ 9.55706136e+00, -1.83766038e+00],\n",
       "       [ 2.37295349e+00,  8.68113038e+00],\n",
       "       [ 1.89734758e+00,  7.94592821e+00],\n",
       "       [-1.44872404e+00,  3.38424521e+00],\n",
       "       [ 1.36917067e+00,  9.08795977e+00],\n",
       "       [ 2.48279064e+00,  3.22558008e+00],\n",
       "       [ 8.62875400e+00, -3.22581916e+00],\n",
       "       [ 3.25753053e-01,  2.92276125e+00],\n",
       "       [-3.22598861e-02,  9.21113146e+00],\n",
       "       [ 6.97940359e-01,  4.42886650e+00],\n",
       "       [ 4.20615791e-01,  4.18407970e+00],\n",
       "       [ 9.61677911e-01,  8.52901374e+00],\n",
       "       [ 1.27953340e+00,  8.52735627e+00],\n",
       "       [ 1.94896306e+00,  6.59430956e-01],\n",
       "       [ 9.11093774e+00, -2.41907585e+00],\n",
       "       [ 3.78258334e-02,  3.22995692e+00],\n",
       "       [ 8.24950387e+00, -2.79951459e+00],\n",
       "       [ 1.13729260e+00,  5.47407624e-01],\n",
       "       [-2.02513943e+00,  8.08731378e+00],\n",
       "       [ 8.03829899e-01,  8.27961509e+00],\n",
       "       [-3.27888599e-01,  4.67401313e+00],\n",
       "       [ 2.68432989e+00,  5.24528383e-01],\n",
       "       [-1.87435910e+00,  7.74714858e+00],\n",
       "       [-1.83480786e+00,  2.99336353e+00],\n",
       "       [ 1.14289006e+00,  5.08509856e+00],\n",
       "       [ 9.06393885e+00, -2.47696545e+00],\n",
       "       [ 1.32500974e+00,  1.79127669e+00],\n",
       "       [-1.20865979e+00,  8.23052944e+00],\n",
       "       [ 9.99848792e-01,  8.72448315e+00],\n",
       "       [ 5.68548333e-01,  3.95332789e+00],\n",
       "       [-4.93818905e-01,  5.64371828e+00],\n",
       "       [-1.65050914e+00,  9.76542296e+00],\n",
       "       [ 1.01761305e+01, -1.93436887e+00],\n",
       "       [ 7.29955818e-01,  9.38764347e+00],\n",
       "       [ 1.65684156e+00,  2.44128930e+00],\n",
       "       [ 2.79207378e+00,  3.14029479e+00],\n",
       "       [ 1.43933466e+00,  1.32906301e+00],\n",
       "       [ 2.95657626e+00,  3.37184532e-02],\n",
       "       [ 2.67269996e+00,  1.55646698e+00],\n",
       "       [ 9.16018794e-01,  5.03007753e-01],\n",
       "       [ 2.56737274e+00, -3.95901176e-01],\n",
       "       [ 3.78585628e+00,  1.96688602e+00],\n",
       "       [ 5.76219516e+00,  1.67197619e+00],\n",
       "       [ 5.72897385e+00,  9.01707845e-01],\n",
       "       [-1.13191059e+00,  2.82499911e+00],\n",
       "       [ 9.63628074e+00, -3.79496195e+00],\n",
       "       [ 2.03580662e+00,  3.07238933e-01],\n",
       "       [-1.61533654e+00,  3.73402043e+00],\n",
       "       [-1.21735133e+00,  6.51008793e+00],\n",
       "       [-1.62143525e+00,  2.37373970e+00],\n",
       "       [ 2.73066641e-01,  8.47881212e+00],\n",
       "       [-4.35278535e-01,  2.36632291e+00],\n",
       "       [-5.96639917e-01,  7.88260049e+00],\n",
       "       [ 2.42311738e+00,  8.43090758e+00],\n",
       "       [ 1.93937162e+00,  8.53162247e+00],\n",
       "       [ 5.08331550e+00,  1.39151519e+00],\n",
       "       [-1.39629871e+00,  7.18934123e+00],\n",
       "       [ 5.67625968e-01,  3.35928158e+00],\n",
       "       [-1.10779119e+00,  2.98861993e+00],\n",
       "       [ 5.09037556e+00,  4.35027121e-01],\n",
       "       [ 1.21486062e+00,  5.36489604e+00],\n",
       "       [-1.53100117e+00,  6.54228066e+00],\n",
       "       [ 8.32992887e+00, -1.29002717e+00],\n",
       "       [ 2.18860632e+00,  1.40568881e+00],\n",
       "       [-1.77411439e+00,  1.57707922e+00],\n",
       "       [ 8.96553887e+00, -2.68623850e+00],\n",
       "       [ 2.17153334e+00,  4.13966072e+00],\n",
       "       [-2.45278822e+00,  2.66804846e+00],\n",
       "       [ 1.54531790e+00,  5.79846208e-01],\n",
       "       [ 2.74073201e+00,  3.76843185e-01],\n",
       "       [ 8.44930698e+00, -2.61112432e+00],\n",
       "       [ 5.80588630e+00,  2.48249468e+00],\n",
       "       [ 5.35397472e+00,  1.81969294e+00],\n",
       "       [ 1.69084152e+00,  9.11646987e-01],\n",
       "       [ 5.53793756e+00, -1.78594241e-01],\n",
       "       [-1.56064117e+00,  2.68837251e+00],\n",
       "       [ 3.86271468e+00,  8.63857939e-01],\n",
       "       [ 7.27028053e-01,  4.34871960e+00],\n",
       "       [ 1.02116058e+00,  7.84796109e+00],\n",
       "       [ 7.48329466e-01,  8.95656234e+00],\n",
       "       [-1.46244260e+00,  6.93305095e+00],\n",
       "       [-2.79325473e+00,  3.40618576e+00],\n",
       "       [ 3.77713545e-02,  5.85868428e+00],\n",
       "       [ 1.39270461e+00,  7.25833700e+00],\n",
       "       [ 2.47031725e+00,  5.02862305e+00],\n",
       "       [-1.72717892e+00,  6.94274243e+00],\n",
       "       [ 6.53728521e-01,  5.28174338e+00],\n",
       "       [-1.06408682e+00,  3.19760583e+00],\n",
       "       [ 6.14659989e-01,  9.50658827e+00],\n",
       "       [ 1.08822606e+01, -2.36684596e+00],\n",
       "       [-6.07803932e-01,  7.89806816e+00],\n",
       "       [-2.02937406e+00,  2.53306057e+00],\n",
       "       [ 4.44061580e+00, -4.64695808e-01],\n",
       "       [ 1.46753357e+00,  5.04155266e+00],\n",
       "       [ 8.36141325e+00, -1.70320361e+00],\n",
       "       [ 8.82980751e+00, -2.70767975e+00],\n",
       "       [ 2.11004780e+00,  8.48385662e+00],\n",
       "       [ 5.74610924e+00, -7.50661454e-01],\n",
       "       [ 4.63258351e+00, -8.44235169e-01],\n",
       "       [ 4.86014995e+00,  3.33927485e-01],\n",
       "       [-9.08301631e-01,  1.97077775e+00],\n",
       "       [ 4.59415729e+00,  9.11753452e-01],\n",
       "       [ 6.06402435e+00, -1.27857703e+00],\n",
       "       [-1.63566377e+00,  3.82739535e+00],\n",
       "       [ 2.17036517e+00,  7.98557193e+00],\n",
       "       [ 2.02384127e+00, -3.68111383e-02],\n",
       "       [ 9.67220743e+00, -1.49279190e+00],\n",
       "       [ 6.45374894e-01,  3.70582348e+00],\n",
       "       [ 9.46694958e+00, -3.04214583e+00],\n",
       "       [-1.48172566e+00,  7.22626625e+00],\n",
       "       [ 1.17176085e+00,  9.39395723e-01],\n",
       "       [-2.40548353e+00,  8.47569838e+00],\n",
       "       [ 2.76488014e+00,  8.40554203e+00],\n",
       "       [-3.05270716e+00,  7.01745454e+00],\n",
       "       [ 7.18378112e-01,  8.14046261e+00],\n",
       "       [-1.20766694e+00,  6.99808056e-01],\n",
       "       [-9.73673012e-01,  3.47368158e+00],\n",
       "       [-3.07592786e+00,  3.06890514e+00],\n",
       "       [ 1.97904709e+00,  7.18265413e+00],\n",
       "       [-2.04883088e+00,  2.60511956e+00],\n",
       "       [ 9.09517067e+00, -3.06163300e+00],\n",
       "       [-2.60674043e+00,  8.14528440e+00],\n",
       "       [ 6.31859683e+00,  1.29434318e+00],\n",
       "       [ 1.13032158e+00,  1.52262214e+00],\n",
       "       [ 4.68812404e-01,  4.01359439e+00],\n",
       "       [ 5.49525802e-02,  8.45822544e+00],\n",
       "       [-5.04651686e-01,  8.30123969e+00],\n",
       "       [-2.10258752e+00,  2.26748787e+00],\n",
       "       [-2.04873889e+00,  2.50093081e+00],\n",
       "       [ 1.88779063e+00,  3.31592667e+00],\n",
       "       [ 7.38191616e+00, -2.31490228e+00],\n",
       "       [-1.31700039e+00,  7.99089437e+00],\n",
       "       [ 6.25600466e-01,  8.66613585e+00],\n",
       "       [ 9.56604568e-01,  7.85929953e+00],\n",
       "       [ 6.43881732e+00,  1.27182432e+00],\n",
       "       [ 8.74641284e+00, -2.74255680e+00],\n",
       "       [ 1.26136320e+00,  4.86904586e+00],\n",
       "       [-5.02777075e-01,  8.10743200e+00],\n",
       "       [ 1.66781904e+00,  3.71005531e+00],\n",
       "       [-2.92393823e+00,  7.93443755e+00],\n",
       "       [-1.87964212e+00,  2.69359787e+00],\n",
       "       [-8.77751511e-01,  8.05873663e+00],\n",
       "       [ 7.54594534e-01,  8.47186549e+00],\n",
       "       [ 8.19491487e+00, -2.94042833e+00],\n",
       "       [ 1.02098199e+00,  1.11130436e+00],\n",
       "       [ 3.96178334e+00,  1.65324725e+00],\n",
       "       [-1.62173221e+00,  6.70193513e+00],\n",
       "       [ 6.01357561e+00,  8.41596781e-01],\n",
       "       [ 2.93499520e+00,  1.42187464e+00],\n",
       "       [ 4.23112819e+00,  8.79399612e-01],\n",
       "       [ 1.50803162e+00,  8.20354096e+00],\n",
       "       [ 1.03285647e+01, -3.03710468e+00],\n",
       "       [ 3.25085516e+00, -7.58324360e-01],\n",
       "       [ 9.40439807e+00, -2.25411254e+00],\n",
       "       [-2.59431079e+00,  1.84050826e+00],\n",
       "       [ 2.79632359e-01,  3.84070760e+00],\n",
       "       [ 2.87289531e-01,  5.83183929e+00],\n",
       "       [ 1.73407165e+00,  4.17977925e+00],\n",
       "       [-1.35234134e+00,  7.91062260e+00]])"
      ]
     },
     "execution_count": 5,
     "metadata": {},
     "output_type": "execute_result"
    }
   ],
   "source": [
    "X"
   ]
  },
  {
   "cell_type": "code",
   "execution_count": 2,
   "metadata": {
    "ExecuteTime": {
     "end_time": "2019-12-16T21:59:00.006804Z",
     "start_time": "2019-12-16T21:59:00.002620Z"
    }
   },
   "outputs": [],
   "source": [
    "X, y = make_blobs(random_state=0, n_samples=400,cluster_std=0.8,centers=7)"
   ]
  },
  {
   "cell_type": "markdown",
   "metadata": {},
   "source": [
    "Now, run the cell below to visualize the dataset we've created. "
   ]
  },
  {
   "cell_type": "code",
   "execution_count": 3,
   "metadata": {
    "ExecuteTime": {
     "end_time": "2019-12-16T21:59:02.388742Z",
     "start_time": "2019-12-16T21:59:02.182927Z"
    }
   },
   "outputs": [
    {
     "data": {
      "image/png": "[encoded data removed]",
      "text/plain": [
       "<Figure size 432x288 with 1 Axes>"
      ]
     },
     "metadata": {
      "needs_background": "light"
     },
     "output_type": "display_data"
    }
   ],
   "source": [
    "plt.scatter(X[:, 0], X[:, 1], c = y, s = 25);"
   ]
  },
  {
   "cell_type": "markdown",
   "metadata": {},
   "source": [
    "In this image, you can see the clusters as they are generated. Let's now see if the k means clustering algorithm can discover these clusters in our dataset.\n",
    "\n",
    "In the cell below:\n",
    "\n",
    "* Create a `KMeans` object and set `n_clusters` to `7`.\n",
    "* `fit()` the `k_means` object to the data stored in `X`.\n",
    "* Generate cluster predictions with `k_means` and store the results in `y_hat`.\n",
    "\n",
    "As always, don't hesitate to look at the [documentation](http://scikit-learn.org/stable/modules/generated/sklearn.cluster.KMeans.html) if you're unsure how to proceed.  "
   ]
  },
  {
   "cell_type": "code",
   "execution_count": 7,
   "metadata": {
    "ExecuteTime": {
     "end_time": "2019-12-16T22:03:48.800846Z",
     "start_time": "2019-12-16T22:03:48.760299Z"
    }
   },
   "outputs": [],
   "source": [
    "k_means = KMeans(n_clusters=7).fit(X)\n",
    "# dont forget to fit the model!\n",
    "\n",
    "y_hat = k_means.predict(X)"
   ]
  },
  {
   "cell_type": "markdown",
   "metadata": {},
   "source": [
    "Great! Now, run the cell below to visualize the results of our k-means clustering algorithm!"
   ]
  },
  {
   "cell_type": "code",
   "execution_count": 8,
   "metadata": {
    "ExecuteTime": {
     "end_time": "2019-12-16T22:03:51.485353Z",
     "start_time": "2019-12-16T22:03:51.313554Z"
    }
   },
   "outputs": [
    {
     "data": {
      "image/png": "[encoded data removed]",
      "text/plain": [
       "<Figure size 432x288 with 1 Axes>"
      ]
     },
     "metadata": {
      "needs_background": "light"
     },
     "output_type": "display_data"
    }
   ],
   "source": [
    "plt.scatter(X[:, 0], X[:, 1], c = y_hat, s = 25)\n",
    "cl_centers = k_means.cluster_centers_\n",
    "plt.scatter(cl_centers[:, 0], cl_centers[:, 1], c='black', s=100);"
   ]
  },
  {
   "cell_type": "markdown",
   "metadata": {},
   "source": [
    "As you can see, the algorithm is pretty good at identifying the clusters. Do keep in mind that for a real data set, you will not be able to evaluate the method as such, as we don't know a priori what the clusters should be. This is the nature of unsupervised learning. The Scikit learn documentation does suggest two methods to evaluate your clusters when the \"ground truth\" is not known: the Silhouette coefficient and the Calinski-Harabaz Index. We'll talk about them later, but first, let's look at the Scikit learn options when using the KMeans function."
   ]
  },
  {
   "cell_type": "markdown",
   "metadata": {},
   "source": [
    "We'll discuss two important parameters which we haven't specified before: `init` and `algorithm`.\n",
    "\n",
    "`init` specifies the method for initialization:\n",
    "\n",
    "- `k-means++` is the default method, this method selects initial cluster centers in a smart way in order to pursue fast convergence.\n",
    "- `random`: choose k random observations for the initial centroids.\n",
    "- `ndarray`: you can pass this argument and provide initial centers.\n",
    "\n",
    "`algorithm` specifies the algorithm used:\n",
    "\n",
    "- If `full` is specified, a full EM-style algorithm is performed. EM is short for \"Expectation Maximization\" and its name is derived from the nature of the algorithm, where in each iteration an E-step (in the context of K-means clustering, the points are assigned to the nearest center) and an M-step (the cluster mean is updated based on the elements of the cluster) is created. \n",
    "- The EM algorithm can be slow. The `elkan` variation is more efficient, but not available for sparse data.\n",
    "- The default is `auto`, and automatically selects `full` for sparse data and `elkan` for dense data. \n",
    "\n",
    "\n"
   ]
  },
  {
   "cell_type": "markdown",
   "metadata": {},
   "source": [
    "## 4. Evaluating k means when labels are not known."
   ]
  },
  {
   "cell_type": "markdown",
   "metadata": {},
   "source": [
    "### 4.1 The silhouette coefficient"
   ]
  },
  {
   "cell_type": "markdown",
   "metadata": {},
   "source": [
    "If the actual cluster labels are unknown, the model itself must be used for evaluation. When calculating the Silhouette Coefficient, a higher score means that you ended up with a model with better defined clusters. Two scores are used to generate the silhouette coefficient:\n",
    "\n",
    "- **a** is the average distance between one data sample and all other points in the same cluster\n",
    "- **b**: The average distance between one data sample and all other points in the next nearest cluster.\n",
    "\n",
    "The silhouette coefficient is then given by:\n",
    "\n",
    "$$ s = \\dfrac{(b-a)}{max(b-a)} $$"
   ]
  },
  {
   "cell_type": "markdown",
   "metadata": {},
   "source": [
    "let's calculate the silhouette score for the model we created above.  \n",
    "\n",
    "In the cell below:\n",
    "\n",
    "* Import the `metrics` module from sklearn.\n",
    "* Store the `labels_` from our model in the `labels` variable\n",
    "* Call the `silhouette_score()` function, which can be found inside of the `metrics` module.  Pass in the data `X`, `labels`, and set the `metric` parameter equal to `euclidean`."
   ]
  },
  {
   "cell_type": "code",
   "execution_count": 10,
   "metadata": {
    "ExecuteTime": {
     "end_time": "2019-12-16T22:13:24.091264Z",
     "start_time": "2019-12-16T22:13:24.079856Z"
    }
   },
   "outputs": [
    {
     "data": {
      "text/plain": [
       "0.5628473532993684"
      ]
     },
     "execution_count": 10,
     "metadata": {},
     "output_type": "execute_result"
    }
   ],
   "source": [
    "from sklearn import metrics\n",
    "labels = k_means.labels_\n",
    "\n",
    "# Call silhouette_score() below!\n",
    "metrics.silhouette_score(X, labels, metric='euclidean')\n"
   ]
  },
  {
   "cell_type": "markdown",
   "metadata": {},
   "source": [
    "Obviously, this number isn't very informative by itself, it only really is informative when you compare it to another coefficient. Let's look at the coefficient when we would have fitted a model with only 6 clusters.\n",
    "\n",
    "In the cell below:\n",
    "\n",
    "* Create another `KMeans` model.  Set the `n_clusters` parameter to `6`.\n",
    "* Fit this model to our dataset, `X`.\n",
    "* Make predictions with this model and store them in `yhat_6`.\n",
    "* Copy over the visualization code from above and modify as necessary to visualize the clusters created by this model. "
   ]
  },
  {
   "cell_type": "code",
   "execution_count": 13,
   "metadata": {
    "ExecuteTime": {
     "end_time": "2019-12-16T22:15:35.127647Z",
     "start_time": "2019-12-16T22:15:34.914872Z"
    }
   },
   "outputs": [
    {
     "data": {
      "image/png": "[encoded data removed]",
      "text/plain": [
       "<Figure size 432x288 with 1 Axes>"
      ]
     },
     "metadata": {
      "needs_background": "light"
     },
     "output_type": "display_data"
    }
   ],
   "source": [
    "k_means_6 = KMeans(n_clusters=6).fit(X)\n",
    "# Don't forget to fit this model, too!\n",
    "\n",
    "yhat_6 = k_means_6.predict(X)\n",
    "\n",
    "# Import and modify the visualization code below this line!\n",
    "plt.scatter(X[:, 0], X[:, 1], c = yhat_6, s = 25)\n",
    "cl_centers = k_means_6.cluster_centers_\n",
    "plt.scatter(cl_centers[:, 0], cl_centers[:, 1], c='black', s=100);"
   ]
  },
  {
   "cell_type": "markdown",
   "metadata": {},
   "source": [
    "Now, in the cell below, calculate the silhouette score for this new model, so that we can compare it to the model with 7 clusters. "
   ]
  },
  {
   "cell_type": "code",
   "execution_count": 14,
   "metadata": {
    "ExecuteTime": {
     "end_time": "2019-12-16T22:16:18.588382Z",
     "start_time": "2019-12-16T22:16:18.579630Z"
    }
   },
   "outputs": [
    {
     "data": {
      "text/plain": [
       "0.5513501487467306"
      ]
     },
     "execution_count": 14,
     "metadata": {},
     "output_type": "execute_result"
    }
   ],
   "source": [
    "labels_6 = k_means_6.labels_\n",
    "\n",
    "# Call silhouette_score() below!\n",
    "metrics.silhouette_score(X, labels_6, metric='euclidean')\n",
    "# Generate a silhouette score for this model below this line!"
   ]
  },
  {
   "cell_type": "markdown",
   "metadata": {},
   "source": [
    "Seems like 7 clusters generated a better result according to the silhouette coefficient!"
   ]
  },
  {
   "cell_type": "markdown",
   "metadata": {},
   "source": [
    "### 4.2 Calinski-Harabaz Index"
   ]
  },
  {
   "cell_type": "markdown",
   "metadata": {},
   "source": [
    "Very similarly to the silhouette coefficient, the Calinski-Harabaz index (`sklearn.metrics.calinski_harabaz_score`) can be used to evaluate the model when class labels are not known a priori. Again, a higher CH score means that the model has better defined clusters.\n",
    "\n",
    "When you have k clusters, the score s is a ratio of the between-cluster dispersion, and the within-cluster dispersion.\n",
    "\n",
    "$$ s(k) = \\dfrac{Tr(B_k)}{Tr(W_k)}\\times \\dfrac{N-k}{k-1}$$\n",
    "\n",
    "Here, the between group dispersion matrix is $B_k$ and the withing dispersion matrix is $W_k$:\n",
    "\n",
    "$$W_k = \\sum^k_{q=1} \\sum_{x\\in C_q} (x - c_q)(x-c_q)^T$$\n",
    "$$B_k = \\sum_{q} n_q (c_q - c)(c_q-c)^T$$\n",
    "\n",
    "where \n",
    "\n",
    "- $N$ is the data size\n",
    "- $C_q$ represents the samples in cluster $q$\n",
    "- $c_q$ represents the center of cluster $q$\n",
    "- $c$ the center of $E$\n",
    "- $n_q$ the number of samples in cluster $q$.\n",
    "\n",
    "To wrap this lab up, let's generate Calinski-Harabaz scores for both of the models we created above.  \n",
    "\n",
    "You'll find the `calinski_harabaz_score()` function inside the `metrics` module, just like `silhouette_score`.  Call this function now to generate a score for the model with 7 clusters. "
   ]
  },
  {
   "cell_type": "code",
   "execution_count": 16,
   "metadata": {
    "ExecuteTime": {
     "end_time": "2019-12-16T22:18:01.558663Z",
     "start_time": "2019-12-16T22:18:01.549618Z"
    }
   },
   "outputs": [
    {
     "name": "stderr",
     "output_type": "stream",
     "text": [
      "//anaconda3/lib/python3.7/site-packages/sklearn/utils/deprecation.py:85: DeprecationWarning: Function calinski_harabaz_score is deprecated; Function 'calinski_harabaz_score' has been renamed to 'calinski_harabasz_score' and will be removed in version 0.23.\n",
      "  warnings.warn(msg, category=DeprecationWarning)\n"
     ]
    },
    {
     "data": {
      "text/plain": [
       "1414.3509760054453"
      ]
     },
     "execution_count": 16,
     "metadata": {},
     "output_type": "execute_result"
    }
   ],
   "source": [
    "metrics.calinski_harabaz_score(X, labels)"
   ]
  },
  {
   "cell_type": "markdown",
   "metadata": {},
   "source": [
    "Now, call it for the model with 6 clusters, so that we can compare the scores for each.  The higher score is the one that better fits the data. "
   ]
  },
  {
   "cell_type": "code",
   "execution_count": 17,
   "metadata": {
    "ExecuteTime": {
     "end_time": "2019-12-16T22:18:40.639693Z",
     "start_time": "2019-12-16T22:18:40.633859Z"
    }
   },
   "outputs": [
    {
     "name": "stderr",
     "output_type": "stream",
     "text": [
      "//anaconda3/lib/python3.7/site-packages/sklearn/utils/deprecation.py:85: DeprecationWarning: Function calinski_harabaz_score is deprecated; Function 'calinski_harabaz_score' has been renamed to 'calinski_harabasz_score' and will be removed in version 0.23.\n",
      "  warnings.warn(msg, category=DeprecationWarning)\n"
     ]
    },
    {
     "data": {
      "text/plain": [
       "1155.528719694376"
      ]
     },
     "execution_count": 17,
     "metadata": {},
     "output_type": "execute_result"
    }
   ],
   "source": [
    "metrics.calinski_harabaz_score(X,labels_6)"
   ]
  },
  {
   "cell_type": "markdown",
   "metadata": {},
   "source": [
    "Also here, the CH index is higher for the model with 7 clusters!"
   ]
  },
  {
   "cell_type": "markdown",
   "metadata": {},
   "source": [
    "Sources: \n",
    "https://jakevdp.github.io/PythonDataScienceHandbook/05.11-k-means.html\n",
    "http://scikit-learn.org/stable/modules/clustering.html"
   ]
  }
 ],
 "metadata": {
  "kernelspec": {
   "display_name": "Python 3",
   "language": "python",
   "name": "python3"
  },
  "language_info": {
   "codemirror_mode": {
    "name": "ipython",
    "version": 3
   },
   "file_extension": ".py",
   "mimetype": "text/x-python",
   "name": "python",
   "nbconvert_exporter": "python",
   "pygments_lexer": "ipython3",
   "version": "3.7.3"
  },
  "varInspector": {
   "cols": {
    "lenName": 16,
    "lenType": 16,
    "lenVar": 40
   },
   "kernels_config": {
    "python": {
     "delete_cmd_postfix": "",
     "delete_cmd_prefix": "del ",
     "library": "var_list.py",
     "varRefreshCmd": "print(var_dic_list())"
    },
    "r": {
     "delete_cmd_postfix": ") ",
     "delete_cmd_prefix": "rm(",
     "library": "var_list.r",
     "varRefreshCmd": "cat(var_dic_list()) "
    }
   },
   "types_to_exclude": [
    "module",
    "function",
    "builtin_function_or_method",
    "instance",
    "_Feature"
   ],
   "window_display": false
  }
 },
 "nbformat": 4,
 "nbformat_minor": 2
}
